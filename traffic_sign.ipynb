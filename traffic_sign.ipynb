{
  "metadata": {
    "kernelspec": {
      "language": "python",
      "display_name": "Python 3",
      "name": "python3"
    },
    "language_info": {
      "name": "python",
      "version": "3.7.12",
      "mimetype": "text/x-python",
      "codemirror_mode": {
        "name": "ipython",
        "version": 3
      },
      "pygments_lexer": "ipython3",
      "nbconvert_exporter": "python",
      "file_extension": ".py"
    },
    "colab": {
      "provenance": [],
      "collapsed_sections": []
    },
    "accelerator": "GPU"
  },
  "nbformat_minor": 0,
  "nbformat": 4,
  "cells": [
    {
      "cell_type": "code",
      "source": [
        "from google.colab import drive\n",
        "drive.mount('/content/drive')"
      ],
      "metadata": {
        "colab": {
          "base_uri": "https://localhost:8080/"
        },
        "id": "GgcSMM0aGsrg",
        "outputId": "667ce71f-4c89-4f56-9022-2151789a917a"
      },
      "execution_count": null,
      "outputs": [
        {
          "output_type": "stream",
          "name": "stdout",
          "text": [
            "Mounted at /content/drive\n"
          ]
        }
      ]
    },
    {
      "cell_type": "code",
      "source": [
        "# Fundamental classes\n",
        "import numpy as np \n",
        "import pandas as pd \n",
        "import tensorflow as tf\n",
        "import os\n",
        "\n",
        "# Image related\n",
        "import cv2\n",
        "from PIL import Image\n",
        "\n",
        "# For ploting\n",
        "import matplotlib.pyplot as plt\n",
        "\n",
        "# For the model and it's training\n",
        "from sklearn.model_selection import train_test_split\n",
        "from tensorflow.keras.utils import to_categorical\n",
        "from tensorflow.keras.models import Sequential, load_model\n",
        "from tensorflow.keras.layers import Conv2D, MaxPool2D, Dense, Flatten, Dropout"
      ],
      "metadata": {
        "id": "G8AEElSWHPTU"
      },
      "execution_count": null,
      "outputs": []
    },
    {
      "cell_type": "code",
      "source": [
        "# Setting variables for later use\n",
        "data = []\n",
        "labels = []\n",
        "classes = 43\n",
        "cur_path = os.getcwd()\n",
        "\n",
        "# Retrieving the images and their labels \n",
        "for i in range(classes):\n",
        "    path = os.path.join('/content/drive/MyDrive/Dataset/','Train',str(i))\n",
        "    images = os.listdir(path)\n",
        "\n",
        "    for a in images:\n",
        "        try:\n",
        "            image = Image.open(path + '/'+ a)\n",
        "            image = image.resize((30,30))\n",
        "            image = np.array(image)\n",
        "            #sim = Image.fromarray(image)\n",
        "            data.append(image)\n",
        "            labels.append(i)\n",
        "        except:\n",
        "            print(\"Error loading image\")\n",
        "\n",
        "# Converting lists into numpy arrays\n",
        "data = np.array(data)\n",
        "labels = np.array(labels)"
      ],
      "metadata": {
        "execution": {
          "iopub.status.busy": "2022-05-09T11:54:49.614346Z",
          "iopub.execute_input": "2022-05-09T11:54:49.614566Z",
          "iopub.status.idle": "2022-05-09T12:00:02.173736Z",
          "shell.execute_reply.started": "2022-05-09T11:54:49.614538Z",
          "shell.execute_reply": "2022-05-09T12:00:02.172888Z"
        },
        "trusted": true,
        "id": "sT3JWVFsxPM7"
      },
      "execution_count": null,
      "outputs": []
    },
    {
      "cell_type": "code",
      "source": [
        "print(labels)"
      ],
      "metadata": {
        "id": "lXXNHOwueCJw",
        "colab": {
          "base_uri": "https://localhost:8080/"
        },
        "outputId": "37479516-5219-414b-f3dc-340c42929ba3"
      },
      "execution_count": null,
      "outputs": [
        {
          "output_type": "stream",
          "name": "stdout",
          "text": [
            "[ 0  0  0 ... 42 42 42]\n"
          ]
        }
      ]
    },
    {
      "cell_type": "code",
      "source": [
        "print(data)"
      ],
      "metadata": {
        "id": "pZKaHc1fX3ID",
        "outputId": "6ef88551-b38b-4028-883e-82735f710e5d",
        "colab": {
          "base_uri": "https://localhost:8080/"
        }
      },
      "execution_count": null,
      "outputs": [
        {
          "output_type": "stream",
          "name": "stdout",
          "text": [
            "[[[[180 140 127]\n",
            "   [198  88  80]\n",
            "   [181  47  39]\n",
            "   ...\n",
            "   [168  79  73]\n",
            "   [152 101  97]\n",
            "   [ 94  77  74]]\n",
            "\n",
            "  [[197 124 103]\n",
            "   [179  60  40]\n",
            "   [164  53  48]\n",
            "   ...\n",
            "   [168  55  39]\n",
            "   [173  92  91]\n",
            "   [126  89  89]]\n",
            "\n",
            "  [[183  76  79]\n",
            "   [177  49  41]\n",
            "   [178  62  62]\n",
            "   ...\n",
            "   [158  42  34]\n",
            "   [160  66  64]\n",
            "   [159 102  94]]\n",
            "\n",
            "  ...\n",
            "\n",
            "  [[139 136 144]\n",
            "   [139 136 147]\n",
            "   [141 137 141]\n",
            "   ...\n",
            "   [ 81  81  77]\n",
            "   [123 120 120]\n",
            "   [132 131 133]]\n",
            "\n",
            "  [[180 181 187]\n",
            "   [183 180 187]\n",
            "   [179 178 185]\n",
            "   ...\n",
            "   [ 75  82  87]\n",
            "   [122 129 135]\n",
            "   [157 158 164]]\n",
            "\n",
            "  [[186 187 195]\n",
            "   [192 186 195]\n",
            "   [183 181 192]\n",
            "   ...\n",
            "   [ 71  77  68]\n",
            "   [ 84  93  85]\n",
            "   [110 112 108]]]\n",
            "\n",
            "\n",
            " [[[ 84  63  57]\n",
            "   [ 76  63  56]\n",
            "   [ 84  69  60]\n",
            "   ...\n",
            "   [ 51  44  36]\n",
            "   [ 53  45  37]\n",
            "   [ 54  45  36]]\n",
            "\n",
            "  [[ 85  72  65]\n",
            "   [ 88  74  64]\n",
            "   [ 92  74  65]\n",
            "   ...\n",
            "   [ 54  44  37]\n",
            "   [ 57  47  39]\n",
            "   [ 61  48  40]]\n",
            "\n",
            "  [[ 89  86  70]\n",
            "   [ 83  78  57]\n",
            "   [ 86  79  56]\n",
            "   ...\n",
            "   [ 60  51  42]\n",
            "   [ 61  52  43]\n",
            "   [ 61  48  38]]\n",
            "\n",
            "  ...\n",
            "\n",
            "  [[142 124 110]\n",
            "   [110  91  82]\n",
            "   [ 66  62  67]\n",
            "   ...\n",
            "   [ 50  45  39]\n",
            "   [ 58  54  47]\n",
            "   [ 60  55  49]]\n",
            "\n",
            "  [[130 121 109]\n",
            "   [105  90  86]\n",
            "   [ 65  63  74]\n",
            "   ...\n",
            "   [ 47  41  35]\n",
            "   [ 53  48  42]\n",
            "   [ 60  55  50]]\n",
            "\n",
            "  [[128 141 136]\n",
            "   [ 94  88  87]\n",
            "   [ 73  71  88]\n",
            "   ...\n",
            "   [ 48  41  36]\n",
            "   [ 52  46  42]\n",
            "   [ 61  55  50]]]\n",
            "\n",
            "\n",
            " [[[170 163 163]\n",
            "   [208 212 209]\n",
            "   [162 177 178]\n",
            "   ...\n",
            "   [130  89  81]\n",
            "   [151 114 110]\n",
            "   [159 139 138]]\n",
            "\n",
            "  [[174 160 156]\n",
            "   [219 221 216]\n",
            "   [167 184 185]\n",
            "   ...\n",
            "   [137 113 109]\n",
            "   [159 140 138]\n",
            "   [149 137 135]]\n",
            "\n",
            "  [[190 166 162]\n",
            "   [233 231 222]\n",
            "   [169 189 188]\n",
            "   ...\n",
            "   [144 139 140]\n",
            "   [138 137 137]\n",
            "   [137 135 135]]\n",
            "\n",
            "  ...\n",
            "\n",
            "  [[200 197 203]\n",
            "   [208 210 216]\n",
            "   [178 186 189]\n",
            "   ...\n",
            "   [131 128 129]\n",
            "   [129 127 127]\n",
            "   [128 127 124]]\n",
            "\n",
            "  [[202 202 215]\n",
            "   [194 196 205]\n",
            "   [189 193 200]\n",
            "   ...\n",
            "   [125 122 124]\n",
            "   [130 128 126]\n",
            "   [127 127 120]]\n",
            "\n",
            "  [[188 192 205]\n",
            "   [183 185 193]\n",
            "   [178 179 183]\n",
            "   ...\n",
            "   [119 116 116]\n",
            "   [123 120 119]\n",
            "   [124 124 122]]]\n",
            "\n",
            "\n",
            " ...\n",
            "\n",
            "\n",
            " [[[ 16  16  20]\n",
            "   [ 16  15  18]\n",
            "   [ 17  16  20]\n",
            "   ...\n",
            "   [ 18  17  20]\n",
            "   [ 18  17  20]\n",
            "   [ 19  18  21]]\n",
            "\n",
            "  [[ 17  17  21]\n",
            "   [ 14  14  17]\n",
            "   [ 16  15  18]\n",
            "   ...\n",
            "   [ 19  18  21]\n",
            "   [ 17  18  21]\n",
            "   [ 17  17  20]]\n",
            "\n",
            "  [[ 16  15  18]\n",
            "   [ 14  14  16]\n",
            "   [ 16  16  19]\n",
            "   ...\n",
            "   [ 17  17  20]\n",
            "   [ 16  16  19]\n",
            "   [ 17  17  20]]\n",
            "\n",
            "  ...\n",
            "\n",
            "  [[ 16  16  20]\n",
            "   [ 18  18  23]\n",
            "   [ 19  20  24]\n",
            "   ...\n",
            "   [ 17  18  24]\n",
            "   [ 16  15  21]\n",
            "   [ 16  15  17]]\n",
            "\n",
            "  [[ 15  16  19]\n",
            "   [ 17  17  21]\n",
            "   [ 20  20  24]\n",
            "   ...\n",
            "   [ 18  18  25]\n",
            "   [ 15  16  21]\n",
            "   [ 15  15  17]]\n",
            "\n",
            "  [[ 16  17  21]\n",
            "   [ 16  16  19]\n",
            "   [ 16  16  20]\n",
            "   ...\n",
            "   [ 17  17  23]\n",
            "   [ 16  17  21]\n",
            "   [ 15  15  17]]]\n",
            "\n",
            "\n",
            " [[[ 12  12  15]\n",
            "   [ 14  13  15]\n",
            "   [ 13  12  14]\n",
            "   ...\n",
            "   [ 13  10  11]\n",
            "   [ 11  10  11]\n",
            "   [ 13  11  13]]\n",
            "\n",
            "  [[ 10  10  13]\n",
            "   [ 12  12  14]\n",
            "   [ 13  12  13]\n",
            "   ...\n",
            "   [ 11  11  13]\n",
            "   [ 11  10  12]\n",
            "   [ 12  11  13]]\n",
            "\n",
            "  [[ 11  10  13]\n",
            "   [ 12  12  14]\n",
            "   [ 16  14  15]\n",
            "   ...\n",
            "   [ 12  11  14]\n",
            "   [ 12  11  13]\n",
            "   [ 10  11  12]]\n",
            "\n",
            "  ...\n",
            "\n",
            "  [[ 10  10  12]\n",
            "   [ 12  10  12]\n",
            "   [ 11  10  12]\n",
            "   ...\n",
            "   [ 10  11  13]\n",
            "   [ 11  11  12]\n",
            "   [ 12  10  11]]\n",
            "\n",
            "  [[ 12  12  13]\n",
            "   [ 13  11  12]\n",
            "   [ 11  11  13]\n",
            "   ...\n",
            "   [ 10   9  13]\n",
            "   [ 11  10  13]\n",
            "   [ 11  11  12]]\n",
            "\n",
            "  [[ 10  10  11]\n",
            "   [ 11  10  12]\n",
            "   [ 12  11  14]\n",
            "   ...\n",
            "   [ 10   9  12]\n",
            "   [ 11  10  13]\n",
            "   [ 11  11  13]]]\n",
            "\n",
            "\n",
            " [[[ 97  90  89]\n",
            "   [100 111 113]\n",
            "   [124 139 149]\n",
            "   ...\n",
            "   [ 60  67  58]\n",
            "   [ 82 108  94]\n",
            "   [ 89  94  74]]\n",
            "\n",
            "  [[ 86  86  84]\n",
            "   [ 97 109 115]\n",
            "   [120 134 151]\n",
            "   ...\n",
            "   [100  93  73]\n",
            "   [122 126 107]\n",
            "   [ 94  97  85]]\n",
            "\n",
            "  [[112 116 129]\n",
            "   [114 127 149]\n",
            "   [141 155 169]\n",
            "   ...\n",
            "   [ 77  60  47]\n",
            "   [ 66  55  50]\n",
            "   [ 59  60  63]]\n",
            "\n",
            "  ...\n",
            "\n",
            "  [[ 94  93  90]\n",
            "   [107 101  96]\n",
            "   [109 101  87]\n",
            "   ...\n",
            "   [101  99  90]\n",
            "   [101  97  85]\n",
            "   [106  98  83]]\n",
            "\n",
            "  [[ 90  92  87]\n",
            "   [106  98  88]\n",
            "   [ 92  77  61]\n",
            "   ...\n",
            "   [ 97  96  87]\n",
            "   [ 98  96  87]\n",
            "   [103  99  89]]\n",
            "\n",
            "  [[ 86  90  79]\n",
            "   [101  92  75]\n",
            "   [ 76  59  42]\n",
            "   ...\n",
            "   [ 99  93  85]\n",
            "   [ 96  94  87]\n",
            "   [ 92  88  84]]]]\n"
          ]
        }
      ]
    },
    {
      "cell_type": "code",
      "source": [
        "len(labels)"
      ],
      "metadata": {
        "colab": {
          "base_uri": "https://localhost:8080/"
        },
        "id": "KRoWa7gkVm_I",
        "outputId": "9dc459e7-13ec-455a-ff09-bee9a00d52b4"
      },
      "execution_count": null,
      "outputs": [
        {
          "output_type": "execute_result",
          "data": {
            "text/plain": [
              "39239"
            ]
          },
          "metadata": {},
          "execution_count": 6
        }
      ]
    },
    {
      "cell_type": "code",
      "source": [
        "plt.figure(figsize = (12,12))\n",
        "\n",
        "for i in range(4) :\n",
        "    plt.subplot(1, 4, i+1)\n",
        "    plt.imshow(data[i], cmap='gray')\n",
        "\n",
        "plt.show()"
      ],
      "metadata": {
        "colab": {
          "base_uri": "https://localhost:8080/"
        },
        "id": "Etm4zcIrQD-9",
        "outputId": "fb898f3a-fd47-421d-9e06-43f22caf2c26"
      },
      "execution_count": null,
      "outputs": [
        {
          "output_type": "display_data",
          "data": {
            "text/plain": [
              "<Figure size 864x864 with 4 Axes>"
            ],
            "image/png": "[encoded data removed]"
          },
          "metadata": {
            "needs_background": "light"
          }
        }
      ]
    },
    {
      "cell_type": "code",
      "source": [
        "classes = { 0:'Speed limit (20km/h)',\n",
        "            1:'Speed limit (30km/h)', \n",
        "            2:'Speed limit (50km/h)', \n",
        "            3:'Speed limit (60km/h)', \n",
        "            4:'Speed limit (70km/h)', \n",
        "            5:'Speed limit (80km/h)', \n",
        "            6:'End of speed limit (80km/h)', \n",
        "            7:'Speed limit (100km/h)', \n",
        "            8:'Speed limit (120km/h)', \n",
        "            9:'No passing', \n",
        "            10:'No passing veh over 3.5 tons', \n",
        "            11:'Right-of-way at intersection', \n",
        "            12:'Priority road', \n",
        "            13:'Yield', \n",
        "            14:'Stop', \n",
        "            15:'No vehicles', \n",
        "            16:'Veh > 3.5 tons prohibited', \n",
        "            17:'No entry', \n",
        "            18:'General caution', \n",
        "            19:'Dangerous curve left', \n",
        "            20:'Dangerous curve right', \n",
        "            21:'Double curve', \n",
        "            22:'Bumpy road', \n",
        "            23:'Slippery road', \n",
        "            24:'Road narrows on the right', \n",
        "            25:'Road work', \n",
        "            26:'Traffic signals', \n",
        "            27:'Pedestrians', \n",
        "            28:'Children crossing', \n",
        "            29:'Bicycles crossing', \n",
        "            30:'Beware of ice/snow',\n",
        "            31:'Wild animals crossing', \n",
        "            32:'End speed + passing limits', \n",
        "            33:'Turn right ahead', \n",
        "            34:'Turn left ahead', \n",
        "            35:'Ahead only', \n",
        "            36:'Go straight or right', \n",
        "            37:'Go straight or left', \n",
        "            38:'Keep right', \n",
        "            39:'Keep left', \n",
        "            40:'Roundabout mandatory', \n",
        "            41:'End of no passing', \n",
        "            42:'End no passing veh > 3.5 tons' }"
      ],
      "metadata": {
        "id": "OGPHVT31QdSA"
      },
      "execution_count": null,
      "outputs": []
    },
    {
      "cell_type": "code",
      "source": [
        "ls "
      ],
      "metadata": {
        "id": "5MSLjaamUh7b",
        "colab": {
          "base_uri": "https://localhost:8080/"
        },
        "outputId": "c73bdbba-e8f9-432b-de24-726f5ca9c9a0"
      },
      "execution_count": null,
      "outputs": [
        {
          "output_type": "stream",
          "name": "stdout",
          "text": [
            "\u001b[0m\u001b[01;34mdrive\u001b[0m/  \u001b[01;34msample_data\u001b[0m/\n"
          ]
        }
      ]
    },
    {
      "cell_type": "code",
      "source": [
        "len(os.listdir('/content/drive/MyDrive/Dataset/Train'))"
      ],
      "metadata": {
        "id": "uWbCUMYdVKkz",
        "colab": {
          "base_uri": "https://localhost:8080/"
        },
        "outputId": "b8156d73-49a3-42a5-fb94-ce1e925dd701"
      },
      "execution_count": null,
      "outputs": [
        {
          "output_type": "execute_result",
          "data": {
            "text/plain": [
              "43"
            ]
          },
          "metadata": {},
          "execution_count": 10
        }
      ]
    },
    {
      "cell_type": "code",
      "source": [
        "train_path = '/content/drive/MyDrive/Dataset/Train'\n",
        "folders = os.listdir(train_path)\n",
        "\n",
        "images_counts = { classes[int(folder)] : len(os.listdir(os.path.join(train_path, folder))) for folder in folders}\n",
        "images_counts = sorted(images_counts.items(), key=lambda kv: (kv[1], kv[0]), reverse=True)"
      ],
      "metadata": {
        "id": "WdAw_axsTZ8x"
      },
      "execution_count": null,
      "outputs": []
    },
    {
      "cell_type": "code",
      "source": [
        "len(images_counts)"
      ],
      "metadata": {
        "id": "u9RHcTM7Tmje",
        "colab": {
          "base_uri": "https://localhost:8080/"
        },
        "outputId": "0f9a5c52-c62f-4838-9ac9-5d89bb96a65c"
      },
      "execution_count": null,
      "outputs": [
        {
          "output_type": "execute_result",
          "data": {
            "text/plain": [
              "43"
            ]
          },
          "metadata": {},
          "execution_count": 12
        }
      ]
    },
    {
      "cell_type": "code",
      "source": [
        "x = [ c[0] for c in images_counts]\n",
        "y = [ c[1] for c in images_counts]\n",
        "plt.figure(figsize=(21,10)) \n",
        "plt.bar(x, y)\n",
        "plt.xticks(x, rotation='vertical')\n",
        "plt.show()"
      ],
      "metadata": {
        "id": "NuJajuSMTomx",
        "colab": {
          "base_uri": "https://localhost:8080/"
        },
        "outputId": "fac6f4bc-0a00-43a2-de0d-5aebd7fecee5"
      },
      "execution_count": null,
      "outputs": [
        {
          "output_type": "display_data",
          "data": {
            "text/plain": [
              "<Figure size 1512x720 with 1 Axes>"
            ],
            "image/png": "[encoded data removed]"
          },
          "metadata": {
            "needs_background": "light"
          }
        }
      ]
    },
    {
      "cell_type": "code",
      "source": [
        "#DATA SPLITTING AND CONVERTION\n",
        "\n",
        "\n",
        "\n",
        "# Checking data shape\n",
        "print(data.shape, labels.shape)\n",
        "\n",
        "# Splitting training and testing dataset\n",
        "X_train, X_test, y_train, y_test = train_test_split(data, labels, test_size=0.2, random_state=42)\n",
        "\n",
        "# Displaying the shape after the split\n",
        "print(X_train.shape, X_test.shape, y_train.shape, y_test.shape)\n",
        "\n",
        "# Converting the labels into one hot encoding\n",
        "y_train = to_categorical(y_train, 43)\n",
        "y_test = to_categorical(y_test, 43)"
      ],
      "metadata": {
        "execution": {
          "iopub.status.busy": "2022-05-09T12:00:02.185110Z",
          "iopub.execute_input": "2022-05-09T12:00:02.185972Z",
          "iopub.status.idle": "2022-05-09T12:00:02.235993Z",
          "shell.execute_reply.started": "2022-05-09T12:00:02.185923Z",
          "shell.execute_reply": "2022-05-09T12:00:02.235152Z"
        },
        "trusted": true,
        "id": "rrGPaJFBxPND",
        "colab": {
          "base_uri": "https://localhost:8080/"
        },
        "outputId": "30351320-7885-419e-fd09-1edc978dc98d"
      },
      "execution_count": null,
      "outputs": [
        {
          "output_type": "stream",
          "name": "stdout",
          "text": [
            "(39239, 30, 30, 3) (39239,)\n",
            "(31391, 30, 30, 3) (7848, 30, 30, 3) (31391,) (7848,)\n"
          ]
        }
      ]
    },
    {
      "cell_type": "code",
      "source": [
        "#CREATING AND COMPILING THE MODEL\n",
        "\n",
        "\n",
        "# Building the model\n",
        "model = Sequential()\n",
        "model.add(Conv2D(filters=32, kernel_size=(5,5), activation='relu', input_shape=X_train.shape[1:]))\n",
        "model.add(Conv2D(filters=32, kernel_size=(5,5), activation='relu'))\n",
        "model.add(MaxPool2D(pool_size=(2, 2)))\n",
        "model.add(Dropout(rate=0.25))\n",
        "model.add(Conv2D(filters=64, kernel_size=(3, 3), activation='relu'))\n",
        "model.add(Conv2D(filters=64, kernel_size=(3, 3), activation='relu'))\n",
        "model.add(MaxPool2D(pool_size=(2, 2)))\n",
        "model.add(Dropout(rate=0.25))\n",
        "model.add(Flatten())\n",
        "model.add(Dense(256, activation='relu'))\n",
        "model.add(Dropout(rate=0.5))\n",
        "model.add(Dense(43, activation='softmax'))\n",
        "\n",
        "# Compilation of the model\n",
        "model.compile(loss='categorical_crossentropy', optimizer='adam', metrics=['accuracy'])\n",
        "\n",
        "#M odel display\n",
        "model.summary()"
      ],
      "metadata": {
        "execution": {
          "iopub.status.busy": "2022-05-09T12:00:02.237480Z",
          "iopub.execute_input": "2022-05-09T12:00:02.238383Z",
          "iopub.status.idle": "2022-05-09T12:00:02.698633Z",
          "shell.execute_reply.started": "2022-05-09T12:00:02.238335Z",
          "shell.execute_reply": "2022-05-09T12:00:02.697786Z"
        },
        "trusted": true,
        "id": "MnetDFSXxPNK",
        "colab": {
          "base_uri": "https://localhost:8080/"
        },
        "outputId": "dc01bf54-03bb-444f-cee3-8adbdfa053bb"
      },
      "execution_count": null,
      "outputs": [
        {
          "output_type": "stream",
          "name": "stdout",
          "text": [
            "Model: \"sequential\"\n",
            "_________________________________________________________________\n",
            " Layer (type)                Output Shape              Param #   \n",
            "=================================================================\n",
            " conv2d (Conv2D)             (None, 26, 26, 32)        2432      \n",
            "                                                                 \n",
            " conv2d_1 (Conv2D)           (None, 22, 22, 32)        25632     \n",
            "                                                                 \n",
            " max_pooling2d (MaxPooling2D  (None, 11, 11, 32)       0         \n",
            " )                                                               \n",
            "                                                                 \n",
            " dropout (Dropout)           (None, 11, 11, 32)        0         \n",
            "                                                                 \n",
            " conv2d_2 (Conv2D)           (None, 9, 9, 64)          18496     \n",
            "                                                                 \n",
            " conv2d_3 (Conv2D)           (None, 7, 7, 64)          36928     \n",
            "                                                                 \n",
            " max_pooling2d_1 (MaxPooling  (None, 3, 3, 64)         0         \n",
            " 2D)                                                             \n",
            "                                                                 \n",
            " dropout_1 (Dropout)         (None, 3, 3, 64)          0         \n",
            "                                                                 \n",
            " flatten (Flatten)           (None, 576)               0         \n",
            "                                                                 \n",
            " dense (Dense)               (None, 256)               147712    \n",
            "                                                                 \n",
            " dropout_2 (Dropout)         (None, 256)               0         \n",
            "                                                                 \n",
            " dense_1 (Dense)             (None, 43)                11051     \n",
            "                                                                 \n",
            "=================================================================\n",
            "Total params: 242,251\n",
            "Trainable params: 242,251\n",
            "Non-trainable params: 0\n",
            "_________________________________________________________________\n"
          ]
        }
      ]
    },
    {
      "cell_type": "code",
      "source": [
        "# Training the Model\n",
        "with tf.device('/GPU:0'):\n",
        "    epochs = 15\n",
        "    history = model.fit(X_train, y_train, batch_size=32, epochs=epochs, validation_data=(X_test, y_test))"
      ],
      "metadata": {
        "id": "06S_K-Fj3Lj1"
      },
      "execution_count": null,
      "outputs": []
    },
    {
      "cell_type": "code",
      "source": [
        "# Plotting performance graphs\n",
        "plt.figure(0)\n",
        "plt.plot(history.history['accuracy'], label='training accuracy')\n",
        "plt.plot(history.history['val_accuracy'], label='val accuracy')\n",
        "plt.title('Accuracy')\n",
        "plt.xlabel('epochs')\n",
        "plt.ylabel('accuracy')\n",
        "plt.legend()\n",
        "plt.show()\n",
        "\n",
        "plt.figure(1)\n",
        "plt.plot(history.history['loss'], label='training loss')\n",
        "plt.plot(history.history['val_loss'], label='val loss')\n",
        "plt.title('Loss')\n",
        "plt.xlabel('epochs')\n",
        "plt.ylabel('loss')\n",
        "plt.legend()\n",
        "plt.show()"
      ],
      "metadata": {
        "id": "B2kE4HGJ3QUw"
      },
      "execution_count": null,
      "outputs": []
    },
    {
      "cell_type": "code",
      "source": [
        "# testing accuracy on test dataset\n",
        "from sklearn.metrics import accuracy_score\n",
        "\n",
        "# Importing the test dataset\n",
        "y_test = pd.read_csv('/content/drive/MyDrive/Dataset/Test.csv')\n",
        "\n",
        "labels = y_test[\"ClassId\"].values\n",
        "imgs = y_test[\"Path\"].values\n",
        "\n",
        "data=[]\n",
        "\n",
        "# Retreiving the images\n",
        "with tf.device('/GPU:0'):\n",
        "    for img in imgs:\n",
        "        image = Image.open('/content/drive/MyDrive/Dataset/'+img)\n",
        "        image = image.resize([30, 30])\n",
        "        data.append(np.array(image))\n",
        "\n",
        "X_test=np.array(data)\n",
        "\n",
        "with tf.device('/GPU:0'):\n",
        "    pred = np.argmax(model.predict(X_test), axis=-1)\n",
        "\n",
        "#Accuracy with the test data\n",
        "from sklearn.metrics import accuracy_score\n",
        "print(accuracy_score(labels, pred))\n"
      ],
      "metadata": {
        "id": "SAyGi2sz3SvU"
      },
      "execution_count": null,
      "outputs": []
    },
    {
      "cell_type": "code",
      "source": [
        "# Saving the Model \n",
        "model.save('MyDrive/Dataset/traffic_classifier.h5')"
      ],
      "metadata": {
        "id": "VBPOArYg3VJN"
      },
      "execution_count": null,
      "outputs": []
    },
    {
      "cell_type": "code",
      "source": [
        "model_json = model.to_json()\n",
        "with open(\"MyDrive/Dataset/model.json\", \"w\") as json_file:\n",
        "    json_file.write(model_json)"
      ],
      "metadata": {
        "id": "XXWFk4K_3YPU"
      },
      "execution_count": null,
      "outputs": []
    },
    {
      "cell_type": "code",
      "source": [
        "from google.colab import files\n",
        "from IPython.display import Image"
      ],
      "metadata": {
        "id": "lnwYDEAZ3afX"
      },
      "execution_count": null,
      "outputs": []
    },
    {
      "cell_type": "code",
      "source": [
        "uploaded = files.upload()"
      ],
      "metadata": {
        "id": "CKSK0GgM3clR"
      },
      "execution_count": null,
      "outputs": []
    },
    {
      "cell_type": "code",
      "source": [
        "img = tf.keras.utils.load_img(\n",
        "    '00217.png', target_size=(30,30)\n",
        ")\n",
        "img_array = tf.keras.utils.img_to_array(img)\n",
        "img_array = tf.expand_dims(img_array, 0) # Create a batch\n",
        "\n",
        "predictions = model.predict(img_array)\n",
        "score = tf.nn.softmax(predictions[0])\n",
        "\n",
        "print(\n",
        "    \"This image most likely belongs to {} with a {:.2f} percent confidence.\"\n",
        "    .format(classes[np.argmax(score)], 100 * np.max(score))\n",
        ")"
      ],
      "metadata": {
        "id": "9Pv01TeR3gPT"
      },
      "execution_count": null,
      "outputs": []
    }
  ]
}